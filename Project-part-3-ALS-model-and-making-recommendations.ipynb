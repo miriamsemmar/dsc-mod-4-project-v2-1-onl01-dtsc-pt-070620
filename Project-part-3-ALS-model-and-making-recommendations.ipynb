{
 "cells": [
  {
   "cell_type": "markdown",
   "metadata": {},
   "source": [
    "# Import Packages & Data"
   ]
  },
  {
   "cell_type": "code",
   "execution_count": 18,
   "metadata": {},
   "outputs": [],
   "source": [
    "import pandas as pd \n",
    "import numpy as np\n",
    "from scipy import sparse\n",
    "import pyspark as spark\n",
    "from pyspark.sql import SparkSession\n",
    "\n",
    "from sklearn.metrics import mean_squared_error\n",
    "from sklearn.model_selection import train_test_split\n",
    "from sklearn.feature_extraction.text import TfidfVectorizer\n",
    "from sklearn.metrics.pairwise import linear_kernel\n",
    "\n",
    "from pyspark.ml.evaluation import RegressionEvaluator\n",
    "from pyspark.ml.recommendation import ALS\n",
    "from pyspark.ml.tuning import CrossValidator, ParamGridBuilder\n",
    "\n",
    "\n",
    "from surprise.prediction_algorithms import knns\n",
    "from surprise.similarities import cosine, msd, pearson\n",
    "from surprise import Reader, Dataset\n",
    "from surprise import accuracy\n",
    "\n",
    "# importing relevant libraries\n",
    "from surprise.model_selection import train_test_split\n",
    "from surprise.model_selection import cross_validate\n",
    "from surprise.prediction_algorithms import SVD, SVDpp, SlopeOne, NMF, NormalPredictor, KNNBaseline\n",
    "from surprise.prediction_algorithms import KNNBasic, KNNWithMeans, KNNWithZScore, BaselineOnly, CoClustering\n",
    "from surprise.model_selection import GridSearchCV\n",
    "\n",
    "import seaborn as sns\n",
    "import matplotlib.pyplot as plt\n",
    "%matplotlib inline"
   ]
  },
  {
   "cell_type": "code",
   "execution_count": 158,
   "metadata": {},
   "outputs": [],
   "source": [
    "from pyspark.ml.tuning import TrainValidationSplit, ParamGridBuilder, CrossValidator\n",
    "from pyspark.ml.regression import LinearRegression\n",
    "from pyspark.ml.evaluation import RegressionEvaluator"
   ]
  },
  {
   "cell_type": "code",
   "execution_count": 19,
   "metadata": {},
   "outputs": [],
   "source": [
    "spark = SparkSession.builder.master('local').getOrCreate()\n",
    "\n",
    "## active SparkSession\n",
    "spark = SparkSession\\\n",
    "        .builder\\\n",
    "        .appName('ALSExample').config('spark.driver.host', 'localhost')\\\n",
    "        .getOrCreate()"
   ]
  },
  {
   "cell_type": "code",
   "execution_count": 20,
   "metadata": {},
   "outputs": [],
   "source": [
    "#For reproducibility\n",
    "\n",
    "import random\n",
    "import numpy as np\n",
    "\n",
    "my_seed = 24\n",
    "random.seed(my_seed)\n",
    "np.random.seed(my_seed)"
   ]
  },
  {
   "cell_type": "code",
   "execution_count": null,
   "metadata": {},
   "outputs": [],
   "source": [
    "pip install jupyter-spark\n",
    "jupyter serverextension enable --py jupyter_spark\n",
    "jupyter nbextension install --py jupyter_spark\n",
    "jupyter nbextension enable --py jupyter_spark\n",
    "jupyter nbextension enable --py widgetsnbextension"
   ]
  },
  {
   "cell_type": "markdown",
   "metadata": {},
   "source": [
    "## Dataframe Imports"
   ]
  },
  {
   "cell_type": "code",
   "execution_count": 47,
   "metadata": {},
   "outputs": [],
   "source": [
    "ratings = pd.read_csv('ratings')\n",
    "gridsearch_models = pd.read_csv('gridsearch_models')"
   ]
  },
  {
   "cell_type": "code",
   "execution_count": 32,
   "metadata": {},
   "outputs": [],
   "source": [
    "movie_ratings = spark.read.csv('ratings', header='true', inferSchema='true')"
   ]
  },
  {
   "cell_type": "markdown",
   "metadata": {},
   "source": [
    "# Spark ALS Model"
   ]
  },
  {
   "cell_type": "markdown",
   "metadata": {},
   "source": [
    "## First pass - vanilla"
   ]
  },
  {
   "cell_type": "code",
   "execution_count": 23,
   "metadata": {},
   "outputs": [],
   "source": [
    "# Build the recommendation model using ALS on the training data"
   ]
  },
  {
   "cell_type": "code",
   "execution_count": 33,
   "metadata": {},
   "outputs": [],
   "source": [
    "#Train-test split\n",
    "\n",
    "(train, test) = movie_ratings.randomSplit([0.8, 0.2])"
   ]
  },
  {
   "cell_type": "code",
   "execution_count": 34,
   "metadata": {},
   "outputs": [],
   "source": [
    "# Cold start strategy set to 'drop' to exclude NaN data from evaluation.\n",
    "\n",
    "als = ALS(maxIter=5,rank=4, regParam=0.01, userCol='userId', itemCol='movieId', ratingCol='rating',\n",
    "          coldStartStrategy='drop')"
   ]
  },
  {
   "cell_type": "code",
   "execution_count": 36,
   "metadata": {},
   "outputs": [],
   "source": [
    "# fit the ALS model to the training set\n",
    "model = als.fit(train)"
   ]
  },
  {
   "cell_type": "code",
   "execution_count": 37,
   "metadata": {},
   "outputs": [
    {
     "name": "stdout",
     "output_type": "stream",
     "text": [
      "Root-mean-square error = 1.004732324130051\n"
     ]
    }
   ],
   "source": [
    "# Evaluate the model by computing the RMSE on the test data\n",
    "predictions = model.transform(test)\n",
    "evaluator = RegressionEvaluator(metricName='rmse', labelCol='rating',predictionCol='prediction')\n",
    "rmse = evaluator.evaluate(predictions)\n",
    "print('Root-mean-square error = ' + str(rmse))\n",
    "\n",
    "\n",
    "#RMSE is greater than that of our best SVDpp model"
   ]
  },
  {
   "cell_type": "markdown",
   "metadata": {},
   "source": [
    "## Refining ALS Model"
   ]
  },
  {
   "cell_type": "code",
   "execution_count": 49,
   "metadata": {},
   "outputs": [],
   "source": [
    "# initialize the ALS model\n",
    "als_model = ALS(userCol='userId', itemCol='movieId', \n",
    "                ratingCol='rating', coldStartStrategy='drop')\n",
    "\n",
    "# create the parameter grid                 \n",
    "params = ParamGridBuilder()\\\n",
    "          .addGrid(als_model.regParam, [0.01, 0.05, 0.1,1.0])\\\n",
    "          .addGrid(als.maxIter, [5, 50,100, 250, 500])\\\n",
    "          .addGrid(als_model.rank, [4, 10,25, 50,100]).build()\n",
    "\n",
    "# instantiating crossvalidator estimator\n",
    "cv = CrossValidator(estimator=als_model, estimatorParamMaps=params,evaluator=evaluator,parallelism=4)\n",
    "best_model = cv.fit(train)"
   ]
  },
  {
   "cell_type": "code",
   "execution_count": 50,
   "metadata": {},
   "outputs": [
    {
     "name": "stdout",
     "output_type": "stream",
     "text": [
      "Root-mean-square error = 0.8854920503652149\n"
     ]
    }
   ],
   "source": [
    "# Evaluate the model by computing the RMSE on the test data\n",
    "\n",
    "predictions = best_model.transform(test)\n",
    "evaluator = RegressionEvaluator(metricName='rmse', labelCol='rating',predictionCol='prediction')\n",
    "rmse = evaluator.evaluate(predictions)\n",
    "print('Root-mean-square error = ' + str(rmse))\n",
    "\n",
    "\n",
    "#RMSE is greater than that of our best SVDpp model, but it is improved over the initial model. \n",
    "#We will move forward with this model given efficient computation and similar RMSE score (~1 star off)"
   ]
  },
  {
   "cell_type": "code",
   "execution_count": 56,
   "metadata": {},
   "outputs": [
    {
     "data": {
      "text/html": [
       "<div>\n",
       "<style scoped>\n",
       "    .dataframe tbody tr th:only-of-type {\n",
       "        vertical-align: middle;\n",
       "    }\n",
       "\n",
       "    .dataframe tbody tr th {\n",
       "        vertical-align: top;\n",
       "    }\n",
       "\n",
       "    .dataframe thead th {\n",
       "        text-align: right;\n",
       "    }\n",
       "</style>\n",
       "<table border=\"1\" class=\"dataframe\">\n",
       "  <thead>\n",
       "    <tr style=\"text-align: right;\">\n",
       "      <th></th>\n",
       "      <th>Model</th>\n",
       "      <th>RMSE</th>\n",
       "    </tr>\n",
       "  </thead>\n",
       "  <tbody>\n",
       "    <tr>\n",
       "      <td>0</td>\n",
       "      <td>SVDpp_Gridsearch</td>\n",
       "      <td>0.852285</td>\n",
       "    </tr>\n",
       "  </tbody>\n",
       "</table>\n",
       "</div>"
      ],
      "text/plain": [
       "              Model      RMSE\n",
       "0  SVDpp_Gridsearch  0.852285"
      ]
     },
     "execution_count": 56,
     "metadata": {},
     "output_type": "execute_result"
    }
   ],
   "source": [
    "#SVDpp_Gridsearch RMSE score below for reference\n",
    "\n",
    "gridsearch_models[:1]"
   ]
  },
  {
   "cell_type": "code",
   "execution_count": 368,
   "metadata": {},
   "outputs": [
    {
     "data": {
      "text/plain": [
       "100"
      ]
     },
     "execution_count": 368,
     "metadata": {},
     "output_type": "execute_result"
    }
   ],
   "source": [
    "best_model.bestModel.rank"
   ]
  },
  {
   "cell_type": "markdown",
   "metadata": {},
   "source": [
    "# Making Recommendations"
   ]
  },
  {
   "cell_type": "markdown",
   "metadata": {},
   "source": [
    "New users will be promopted to provide information regarding their pre-existing movie preferences. In order to do so, we will prompt them using the 250 most reviewed movies. We will use rating frequency to infer popularity, in the hopes that new users are likely to have already viewed these films."
   ]
  },
  {
   "cell_type": "code",
   "execution_count": 196,
   "metadata": {},
   "outputs": [
    {
     "data": {
      "text/plain": [
       "{'Action',\n",
       " 'Adventure',\n",
       " 'Animation',\n",
       " 'Children',\n",
       " 'Comedy',\n",
       " 'Crime',\n",
       " 'Documentary',\n",
       " 'Drama',\n",
       " 'Fantasy',\n",
       " 'Film-Noir',\n",
       " 'Horror',\n",
       " 'IMAX',\n",
       " 'Musical',\n",
       " 'Mystery',\n",
       " 'Romance',\n",
       " 'Sci-Fi',\n",
       " 'Thriller',\n",
       " 'War',\n",
       " 'Western'}"
      ]
     },
     "execution_count": 196,
     "metadata": {},
     "output_type": "execute_result"
    }
   ],
   "source": [
    "#Creating list of movie genres\n",
    "\n",
    "movie_genres = []\n",
    "\n",
    "for genres in movie_info.genres:\n",
    "    genre_list = genres.split('|')\n",
    "    for x in genre_list:\n",
    "        movie_genres.append(x)\n",
    "\n",
    "movie_genres = set(movie_genres)\n",
    "movie_genres.remove('(no genres listed)')\n",
    "movie_genres"
   ]
  },
  {
   "cell_type": "code",
   "execution_count": 383,
   "metadata": {
    "scrolled": false
   },
   "outputs": [
    {
     "name": "stdout",
     "output_type": "stream",
     "text": [
      "Please enter your user Id, press n if you are a new user:n\n",
      "\n",
      "Welcome new user!\n",
      "\n",
      "Help us figure out what kind of movies you enjoy by rating 5 titles\n",
      "\n",
      "Legend of Bagger Vance, The (2000)\n",
      "How do you rate this movie on a scale of 1-5?\n",
      "            Press n if you have not seen or already rated:n\n",
      "\n",
      "Baby Driver (2017)\n",
      "How do you rate this movie on a scale of 1-5?\n",
      "            Press n if you have not seen or already rated:4\n",
      "\n",
      "Ghost World (2001)\n",
      "How do you rate this movie on a scale of 1-5?\n",
      "            Press n if you have not seen or already rated:n\n",
      "\n",
      "Ponyo (Gake no ue no Ponyo) (2008)\n",
      "How do you rate this movie on a scale of 1-5?\n",
      "            Press n if you have not seen or already rated:n\n",
      "\n",
      "Dante's Peak (1997)\n",
      "How do you rate this movie on a scale of 1-5?\n",
      "            Press n if you have not seen or already rated:n\n",
      "\n",
      "Zodiac (2007)\n",
      "How do you rate this movie on a scale of 1-5?\n",
      "            Press n if you have not seen or already rated:n\n",
      "\n",
      "As Good as It Gets (1997)\n",
      "How do you rate this movie on a scale of 1-5?\n",
      "            Press n if you have not seen or already rated:n\n",
      "\n",
      "39 Steps, The (1935)\n",
      "How do you rate this movie on a scale of 1-5?\n",
      "            Press n if you have not seen or already rated:n\n",
      "\n",
      "Titanic (1997)\n",
      "How do you rate this movie on a scale of 1-5?\n",
      "            Press n if you have not seen or already rated:3\n",
      "\n",
      "Innerspace (1987)\n",
      "How do you rate this movie on a scale of 1-5?\n",
      "            Press n if you have not seen or already rated:n\n",
      "\n",
      "Smoke (1995)\n",
      "How do you rate this movie on a scale of 1-5?\n",
      "            Press n if you have not seen or already rated:n\n",
      "\n",
      "Insider, The (1999)\n",
      "How do you rate this movie on a scale of 1-5?\n",
      "            Press n if you have not seen or already rated:3\n",
      "\n",
      "Big (1988)\n",
      "How do you rate this movie on a scale of 1-5?\n",
      "            Press n if you have not seen or already rated:n\n",
      "\n",
      "Shaun of the Dead (2004)\n",
      "How do you rate this movie on a scale of 1-5?\n",
      "            Press n if you have not seen or already rated:n\n",
      "\n",
      "Crocodile Dundee (1986)\n",
      "How do you rate this movie on a scale of 1-5?\n",
      "            Press n if you have not seen or already rated:2\n",
      "\n",
      "Like Father, Like Son (1987)\n",
      "How do you rate this movie on a scale of 1-5?\n",
      "            Press n if you have not seen or already rated:n\n",
      "\n",
      "Minority Report (2002)\n",
      "How do you rate this movie on a scale of 1-5?\n",
      "            Press n if you have not seen or already rated:4\n",
      "\n",
      "\n",
      "Generating recommendations...\n",
      "\n",
      "\n",
      "Recommended movies for you:\n",
      "\n",
      "Godfather, The (1972)\n",
      "Fight Club (1999)\n",
      "Inception (2010)\n",
      "Pulp Fiction (1994)\n",
      "Shawshank Redemption, The (1994)\n"
     ]
    }
   ],
   "source": [
    "#Creating a formula to generate recommendations for new and existing users. \n",
    "#First, we ascertain whether or not a user is returning or new\n",
    "\n",
    "user_id = input(\"Please enter your user Id, press n if you are a new user:\")\n",
    "print(\"\")\n",
    "if user_id == 'n':\n",
    "    user_id = 0\n",
    "\n",
    "else:\n",
    "    user_id = int(user_id)\n",
    "    \n",
    "    \n",
    "#If this is a returning user, \n",
    "\n",
    "if len(movie_info.rating[movie_info.userId == user_id])>0: #checking this user has input ratings\n",
    "    print(\"Hi, user\", user_id)\n",
    "    print(\"\")\n",
    "    print(\"Welcome back.\")\n",
    "    print(\"\")\n",
    "    print(\"Recommended movies for you:\")\n",
    "    print(\"\")\n",
    "    \n",
    "    #using model to make recommendations based on existing user\n",
    "    \n",
    "    movie_ids = []\n",
    "    recommendations = model.recommendForAllUsers(5)\n",
    "    recs_for_user = recommendations.where(recommendations.userId == user_id).take(1)\n",
    "    \n",
    "    for x in recs_for_user[0]['recommendations']:\n",
    "        rec_id = x[0]\n",
    "        movie_ids.append(rec_id)\n",
    "        \n",
    "    #getting move titles \n",
    "    \n",
    "    recommended_movies = []\n",
    "    \n",
    "    for x in movie_ids:\n",
    "        movie = list(movie_info.title[movie_info.movieId == x].unique())[0]\n",
    "        print(movie)\n",
    "\n",
    "#If this is a new user, \n",
    "        \n",
    "if user_id == 0:\n",
    "    \n",
    "    print(\"Welcome new user!\")\n",
    "    print(\"\")\n",
    "    print(\"Help us figure out what kind of movies you enjoy by rating 5 titles\")\n",
    "    print(\"\")\n",
    "    \n",
    "    num = 5\n",
    "    rating_list = []\n",
    "\n",
    "    while num > 0:\n",
    "        if num == 0:\n",
    "            False\n",
    "\n",
    "        else: \n",
    "\n",
    "            rate_movie_id = list(movie_info.sample(1)['movieId'])[0]\n",
    "            rate_movie_title = list(movie_info.title[movie_info.movieId == rate_movie_id].unique())[0]\n",
    "            print(rate_movie_title)\n",
    "            rating = rating = input(\"\"\"How do you rate this movie on a scale of 1-5?\n",
    "            Press n if you have not seen or already rated:\"\"\")\n",
    "            print(\"\")\n",
    "\n",
    "            if rating == 'n':\n",
    "                pass   \n",
    "            else:\n",
    "                rating_one_movie = (user_id,int(rate_movie_id),float(rating))\n",
    "                rating_list.append(rating_one_movie) \n",
    "                num -= 1\n",
    "    \n",
    "    print(\"\")\n",
    "    print(\"Generating recommendations...\")\n",
    "    print(\"\")\n",
    "    \n",
    "    new_data = spark.createDataFrame(rating_list,movie_ratings.columns)\n",
    "    new_data_df = movie_ratings.union(new_data)\n",
    "    \n",
    "    als = ALS(maxIter=5,rank=100, regParam=0.01, userCol='userId', itemCol='movieId', ratingCol='rating',\n",
    "          coldStartStrategy='drop')\n",
    "\n",
    "    new_user_model = als.fit(new_data_df)\n",
    "    \n",
    "    print(\"\")\n",
    "    print(\"Recommended movies for you:\")\n",
    "    print(\"\")\n",
    "    \n",
    "    movie_ids = []\n",
    "    recommendations = new_user_model.recommendForAllUsers(5)\n",
    "    recs_for_user = recommendations.where(recommendations.userId == user_id).take(1)\n",
    "    \n",
    "    for x in recs_for_user[0]['recommendations']:\n",
    "        rec_id = x[0]\n",
    "        movie_ids.append(rec_id)\n",
    "        \n",
    "    #getting move titles \n",
    "    \n",
    "    recommended_movies = []\n",
    "    \n",
    "    for x in movie_ids:\n",
    "        movie = list(movie_info.title[movie_info.movieId == x].unique())[0]\n",
    "        print(movie)\n",
    "    \n",
    "    "
   ]
  },
  {
   "cell_type": "markdown",
   "metadata": {},
   "source": [
    "# Conclusions and Next Steps"
   ]
  },
  {
   "cell_type": "markdown",
   "metadata": {},
   "source": [
    "The final ALS model is the best model for our purposes, given the low RMSE (<0.9) and quick processing time.\n",
    "\n",
    "The recommendation system has some room for improvement. A few ideas below:\n",
    "\n",
    "- Ask new users to rate some of the most popular movies, to avoid drawing out the initial survey. The initial survey is necessary to resolve the cold start problem.\n",
    "\n",
    "- Create a more sophisticated model that can generate recommendations based on genres or even age group (children only, for example).\n",
    "\n",
    "- Our dataset has a high number of comedy, fantasy and thriller movies. It's possible that our recommendations won't be as strong for movies that fall into less popular genres. We could consider a larger dataset.\n",
    "\n",
    "- We should be updating the dataset as new movies become available on our platform."
   ]
  },
  {
   "cell_type": "code",
   "execution_count": null,
   "metadata": {},
   "outputs": [],
   "source": []
  }
 ],
 "metadata": {
  "kernelspec": {
   "display_name": "Python [conda env:learn-env] *",
   "language": "python",
   "name": "conda-env-learn-env-py"
  },
  "language_info": {
   "codemirror_mode": {
    "name": "ipython",
    "version": 3
   },
   "file_extension": ".py",
   "mimetype": "text/x-python",
   "name": "python",
   "nbconvert_exporter": "python",
   "pygments_lexer": "ipython3",
   "version": "3.6.9"
  },
  "toc": {
   "base_numbering": 1,
   "nav_menu": {},
   "number_sections": true,
   "sideBar": true,
   "skip_h1_title": false,
   "title_cell": "Table of Contents",
   "title_sidebar": "Contents",
   "toc_cell": false,
   "toc_position": {},
   "toc_section_display": true,
   "toc_window_display": true
  },
  "varInspector": {
   "cols": {
    "lenName": 16,
    "lenType": 16,
    "lenVar": 40
   },
   "kernels_config": {
    "python": {
     "delete_cmd_postfix": "",
     "delete_cmd_prefix": "del ",
     "library": "var_list.py",
     "varRefreshCmd": "print(var_dic_list())"
    },
    "r": {
     "delete_cmd_postfix": ") ",
     "delete_cmd_prefix": "rm(",
     "library": "var_list.r",
     "varRefreshCmd": "cat(var_dic_list()) "
    }
   },
   "oldHeight": 122,
   "position": {
    "height": "40px",
    "left": "1522px",
    "right": "20px",
    "top": "120px",
    "width": "250px"
   },
   "types_to_exclude": [
    "module",
    "function",
    "builtin_function_or_method",
    "instance",
    "_Feature"
   ],
   "varInspector_section_display": "none",
   "window_display": true
  }
 },
 "nbformat": 4,
 "nbformat_minor": 2
}
