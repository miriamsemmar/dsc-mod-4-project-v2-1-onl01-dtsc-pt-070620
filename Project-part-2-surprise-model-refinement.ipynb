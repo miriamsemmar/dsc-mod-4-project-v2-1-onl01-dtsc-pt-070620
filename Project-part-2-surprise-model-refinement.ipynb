{
 "cells": [
  {
   "cell_type": "markdown",
   "metadata": {},
   "source": [
    "# Import Packages & Data"
   ]
  },
  {
   "cell_type": "code",
   "execution_count": 131,
   "metadata": {},
   "outputs": [],
   "source": [
    "import pandas as pd \n",
    "import numpy as np\n",
    "from scipy import sparse\n",
    "import pyspark as spark\n",
    "from pyspark.sql import SparkSession\n",
    "\n",
    "from sklearn.metrics import mean_squared_error\n",
    "from sklearn.model_selection import train_test_split\n",
    "from sklearn.feature_extraction.text import TfidfVectorizer\n",
    "from sklearn.metrics.pairwise import linear_kernel\n",
    "\n",
    "from pyspark.ml.evaluation import RegressionEvaluator\n",
    "from pyspark.ml.recommendation import ALS\n",
    "from pyspark.ml.tuning import CrossValidator, ParamGridBuilder\n",
    "\n",
    "\n",
    "from surprise.prediction_algorithms import knns\n",
    "from surprise.similarities import cosine, msd, pearson\n",
    "from surprise import Reader, Dataset\n",
    "from surprise import accuracy\n",
    "\n",
    "# importing relevant libraries\n",
    "from surprise.model_selection import train_test_split\n",
    "from surprise.model_selection import cross_validate\n",
    "from surprise.prediction_algorithms import SVD, SVDpp, SlopeOne, NMF, NormalPredictor, KNNBaseline\n",
    "from surprise.prediction_algorithms import KNNBasic, KNNWithMeans, KNNWithZScore, BaselineOnly, CoClustering\n",
    "from surprise.model_selection import GridSearchCV\n",
    "\n",
    "import seaborn as sns\n",
    "import matplotlib.pyplot as plt\n",
    "%matplotlib inline"
   ]
  },
  {
   "cell_type": "code",
   "execution_count": 132,
   "metadata": {},
   "outputs": [],
   "source": [
    "#For reproducibility\n",
    "\n",
    "import random\n",
    "import numpy as np\n",
    "\n",
    "my_seed = 24\n",
    "random.seed(my_seed)\n",
    "np.random.seed(my_seed)"
   ]
  },
  {
   "cell_type": "markdown",
   "metadata": {},
   "source": [
    "## Import Data & Train Test Split"
   ]
  },
  {
   "cell_type": "code",
   "execution_count": 133,
   "metadata": {},
   "outputs": [],
   "source": [
    "ratings = pd.read_csv('ratings')"
   ]
  },
  {
   "cell_type": "code",
   "execution_count": 134,
   "metadata": {},
   "outputs": [],
   "source": [
    "reader = Reader()\n",
    "data = Dataset.load_from_df(ratings,reader)"
   ]
  },
  {
   "cell_type": "code",
   "execution_count": 135,
   "metadata": {},
   "outputs": [],
   "source": [
    "train, test = train_test_split(data, test_size=.2)"
   ]
  },
  {
   "cell_type": "markdown",
   "metadata": {},
   "source": [
    "## Recreating Model Execution formula from part 1"
   ]
  },
  {
   "cell_type": "code",
   "execution_count": 136,
   "metadata": {},
   "outputs": [],
   "source": [
    "refined_models = pd.DataFrame(columns=['Model','RMSE'])"
   ]
  },
  {
   "cell_type": "code",
   "execution_count": 137,
   "metadata": {},
   "outputs": [],
   "source": [
    "#formula to quickly run models\n",
    "\n",
    "def execute(model_name,model,train_set,test_set):\n",
    "    \n",
    "    #Fitting model\n",
    "    \n",
    "    model.fit(train_set)\n",
    "    \n",
    "    #RMSE values\n",
    "    \n",
    "    predictions = model.test(test_set)\n",
    "    RMSE = accuracy.rmse(predictions)\n",
    "    \n",
    "    #Saving values\n",
    "    \n",
    "    results = {'Model': model_name}\n",
    "    results['RMSE'] = RMSE\n",
    "    \n",
    "    return results"
   ]
  },
  {
   "cell_type": "markdown",
   "metadata": {},
   "source": [
    "# Vanilla Model Summary"
   ]
  },
  {
   "cell_type": "code",
   "execution_count": 138,
   "metadata": {},
   "outputs": [],
   "source": [
    "vanilla_model_summary = pd.read_csv('all_models')\n",
    "vanilla_model_summary = vanilla_model_summary.sort_values(by='RMSE')"
   ]
  },
  {
   "cell_type": "code",
   "execution_count": 139,
   "metadata": {},
   "outputs": [],
   "source": [
    "#We'll now focus on refining the top 3 models through gridsearch"
   ]
  },
  {
   "cell_type": "code",
   "execution_count": 140,
   "metadata": {},
   "outputs": [
    {
     "data": {
      "text/html": [
       "<div>\n",
       "<style scoped>\n",
       "    .dataframe tbody tr th:only-of-type {\n",
       "        vertical-align: middle;\n",
       "    }\n",
       "\n",
       "    .dataframe tbody tr th {\n",
       "        vertical-align: top;\n",
       "    }\n",
       "\n",
       "    .dataframe thead th {\n",
       "        text-align: right;\n",
       "    }\n",
       "</style>\n",
       "<table border=\"1\" class=\"dataframe\">\n",
       "  <thead>\n",
       "    <tr style=\"text-align: right;\">\n",
       "      <th></th>\n",
       "      <th>Model</th>\n",
       "      <th>RMSE</th>\n",
       "    </tr>\n",
       "  </thead>\n",
       "  <tbody>\n",
       "    <tr>\n",
       "      <td>7</td>\n",
       "      <td>SVDpp</td>\n",
       "      <td>0.861879</td>\n",
       "    </tr>\n",
       "    <tr>\n",
       "      <td>0</td>\n",
       "      <td>Baseline</td>\n",
       "      <td>0.876181</td>\n",
       "    </tr>\n",
       "    <tr>\n",
       "      <td>6</td>\n",
       "      <td>SVD</td>\n",
       "      <td>0.878338</td>\n",
       "    </tr>\n",
       "  </tbody>\n",
       "</table>\n",
       "</div>"
      ],
      "text/plain": [
       "      Model      RMSE\n",
       "7     SVDpp  0.861879\n",
       "0  Baseline  0.876181\n",
       "6       SVD  0.878338"
      ]
     },
     "execution_count": 140,
     "metadata": {},
     "output_type": "execute_result"
    }
   ],
   "source": [
    "vanilla_model_summary[:3]"
   ]
  },
  {
   "cell_type": "markdown",
   "metadata": {},
   "source": [
    "# Model Refinement"
   ]
  },
  {
   "cell_type": "markdown",
   "metadata": {},
   "source": [
    "## SVDpp"
   ]
  },
  {
   "cell_type": "code",
   "execution_count": 141,
   "metadata": {},
   "outputs": [],
   "source": [
    "param_grid = {'n_factors': [20,25,50,100,125,150],\n",
    "               'n_epochs': [5,10,15,20,25,30],\n",
    "                'lr_all': [0.002, 0.005,0.007,0.01],\n",
    "                'reg_all': [0.01,0.02,0.04, 0.06,0.08,0.10]\n",
    "               }"
   ]
  },
  {
   "cell_type": "code",
   "execution_count": 142,
   "metadata": {},
   "outputs": [],
   "source": [
    "# SVDpp_model = GridSearchCV(SVD, param_grid, measures=['rmse'], cv=3)\n",
    "# SVDpp_model.fit(data)"
   ]
  },
  {
   "cell_type": "code",
   "execution_count": 143,
   "metadata": {},
   "outputs": [],
   "source": [
    "# SVDpp_model.best_score['rmse']\n",
    "# SVDpp_model.best_params['rmse']"
   ]
  },
  {
   "cell_type": "code",
   "execution_count": 144,
   "metadata": {},
   "outputs": [],
   "source": [
    "#Hard coding to avoid the long processing time of the gridsearch above\n",
    "\n",
    "n_factors = 100\n",
    "n_epochs = 30\n",
    "lr_all = 0.01\n",
    "reg_all = 0.08\n"
   ]
  },
  {
   "cell_type": "code",
   "execution_count": 145,
   "metadata": {},
   "outputs": [
    {
     "name": "stdout",
     "output_type": "stream",
     "text": [
      "RMSE: 0.8523\n"
     ]
    }
   ],
   "source": [
    "model_name = 'SVDpp_Gridsearch'\n",
    "model = SVDpp(n_factors = n_factors, n_epochs = n_epochs, lr_all = lr_all, reg_all = reg_all)\n",
    "SVDpp_results = execute(model_name,model,train,test)\n",
    "SVDpp_df = pd.DataFrame([SVDpp_results], columns=SVDpp_results.keys())\n",
    "refined_models = refined_models.append(SVDpp_df)"
   ]
  },
  {
   "cell_type": "markdown",
   "metadata": {},
   "source": [
    "## SVD"
   ]
  },
  {
   "cell_type": "code",
   "execution_count": 146,
   "metadata": {},
   "outputs": [],
   "source": [
    "param_grid = {'n_factors': [25,50,100,125,150],\n",
    "               'n_epochs': [5,10,15,20],\n",
    "                'lr_all': [0.002, 0.005,0.01],\n",
    "                'reg_all': [0.02,0.04, 0.06,0.08,0.10]\n",
    "               }"
   ]
  },
  {
   "cell_type": "code",
   "execution_count": 147,
   "metadata": {},
   "outputs": [],
   "source": [
    "# SVD_model = GridSearchCV(SVD, param_grid, measures=['rmse'], cv=3)\n",
    "# SVD_model.fit(data)"
   ]
  },
  {
   "cell_type": "code",
   "execution_count": 148,
   "metadata": {},
   "outputs": [],
   "source": [
    "# SVD_model.best_score['rmse']\n",
    "# SVD_model.best_params['rmse']"
   ]
  },
  {
   "cell_type": "code",
   "execution_count": 149,
   "metadata": {},
   "outputs": [],
   "source": [
    "#Hard coding to avoid the long processing time of the gridsearch above\n",
    "\n",
    "n_factors = 100\n",
    "n_epochs = 20\n",
    "lr_all = 0.01\n",
    "reg_all = 0.06"
   ]
  },
  {
   "cell_type": "code",
   "execution_count": 150,
   "metadata": {},
   "outputs": [
    {
     "name": "stdout",
     "output_type": "stream",
     "text": [
      "RMSE: 0.8603\n"
     ]
    }
   ],
   "source": [
    "model_name = 'SVD_Gridsearch'\n",
    "model = SVD(n_factors = n_factors, n_epochs = n_epochs, lr_all = lr_all, reg_all = reg_all)\n",
    "\n",
    "SVD_results = execute(model_name,model,train,test)\n",
    "SVD_df = pd.DataFrame([SVD_results], columns=SVD_results.keys())\n",
    "refined_models = refined_models.append(SVD_df)"
   ]
  },
  {
   "cell_type": "markdown",
   "metadata": {},
   "source": [
    "## Baseline"
   ]
  },
  {
   "cell_type": "code",
   "execution_count": 151,
   "metadata": {},
   "outputs": [],
   "source": [
    "param_grid = {'bsl_options':{'method': ['als','sgd'],\n",
    "               'n_epochs': [5,10,15,20],\n",
    "               'reg_u': [5,10,12,15],\n",
    "               'reg_i': [5,10,12,15],\n",
    "                'learning_rate': [0.002, 0.005,0.01],\n",
    "                'reg': [0.02,0.04, 0.06,0.08,0.10]\n",
    "               }}"
   ]
  },
  {
   "cell_type": "code",
   "execution_count": 152,
   "metadata": {
    "scrolled": true
   },
   "outputs": [],
   "source": [
    "# baseline_model = GridSearchCV(BaselineOnly, param_grid, measures=['rmse'], cv=3)\n",
    "# baseline_model.fit(data)"
   ]
  },
  {
   "cell_type": "code",
   "execution_count": 153,
   "metadata": {},
   "outputs": [],
   "source": [
    "# baseline_model.best_score['rmse']\n",
    "# baseline_model.best_params['rmse']"
   ]
  },
  {
   "cell_type": "code",
   "execution_count": 154,
   "metadata": {},
   "outputs": [],
   "source": [
    "#Hard coding to avoid the long processing time of the gridsearch above\n",
    "\n",
    "Baseline_best_params = {'method': 'als','n_epochs': 20,'reg_u': 5,'reg_i': 5,'learning_rate': 0.002,'reg': 0.02}"
   ]
  },
  {
   "cell_type": "code",
   "execution_count": 155,
   "metadata": {},
   "outputs": [
    {
     "name": "stdout",
     "output_type": "stream",
     "text": [
      "Estimating biases using als...\n",
      "Estimating biases using als...\n",
      "RMSE: 0.8701\n"
     ]
    }
   ],
   "source": [
    "model_name = 'Baseline_Gridsearch'\n",
    "model = BaselineOnly(bsl_options=Baseline_best_params)\n",
    "model.fit(train)\n",
    "\n",
    "baseline_results = execute(model_name,model,train,test)\n",
    "baseline_df = pd.DataFrame([baseline_results], columns=baseline_results.keys())\n",
    "refined_models = refined_models.append(baseline_df)"
   ]
  },
  {
   "cell_type": "markdown",
   "metadata": {},
   "source": [
    "# Surprise Model Summary"
   ]
  },
  {
   "cell_type": "code",
   "execution_count": 156,
   "metadata": {
    "scrolled": true
   },
   "outputs": [
    {
     "data": {
      "text/html": [
       "<div>\n",
       "<style scoped>\n",
       "    .dataframe tbody tr th:only-of-type {\n",
       "        vertical-align: middle;\n",
       "    }\n",
       "\n",
       "    .dataframe tbody tr th {\n",
       "        vertical-align: top;\n",
       "    }\n",
       "\n",
       "    .dataframe thead th {\n",
       "        text-align: right;\n",
       "    }\n",
       "</style>\n",
       "<table border=\"1\" class=\"dataframe\">\n",
       "  <thead>\n",
       "    <tr style=\"text-align: right;\">\n",
       "      <th></th>\n",
       "      <th>Model</th>\n",
       "      <th>RMSE</th>\n",
       "    </tr>\n",
       "  </thead>\n",
       "  <tbody>\n",
       "    <tr>\n",
       "      <td>0</td>\n",
       "      <td>SVDpp_Gridsearch</td>\n",
       "      <td>0.852285</td>\n",
       "    </tr>\n",
       "    <tr>\n",
       "      <td>0</td>\n",
       "      <td>SVD_Gridsearch</td>\n",
       "      <td>0.860330</td>\n",
       "    </tr>\n",
       "    <tr>\n",
       "      <td>0</td>\n",
       "      <td>Baseline_Gridsearch</td>\n",
       "      <td>0.870103</td>\n",
       "    </tr>\n",
       "  </tbody>\n",
       "</table>\n",
       "</div>"
      ],
      "text/plain": [
       "                 Model      RMSE\n",
       "0     SVDpp_Gridsearch  0.852285\n",
       "0       SVD_Gridsearch  0.860330\n",
       "0  Baseline_Gridsearch  0.870103"
      ]
     },
     "execution_count": 156,
     "metadata": {},
     "output_type": "execute_result"
    }
   ],
   "source": [
    "#All models were improved by Gridsearch, however, the results all translate to predictions within +/-1 star.\n",
    "#SVDpp remains the strongest performing model, now refined with Gridsearch.\n",
    "#Vanilla models below for reference.\n",
    "\n",
    "refined_models.sort_values('RMSE')"
   ]
  },
  {
   "cell_type": "code",
   "execution_count": 157,
   "metadata": {},
   "outputs": [
    {
     "data": {
      "text/html": [
       "<div>\n",
       "<style scoped>\n",
       "    .dataframe tbody tr th:only-of-type {\n",
       "        vertical-align: middle;\n",
       "    }\n",
       "\n",
       "    .dataframe tbody tr th {\n",
       "        vertical-align: top;\n",
       "    }\n",
       "\n",
       "    .dataframe thead th {\n",
       "        text-align: right;\n",
       "    }\n",
       "</style>\n",
       "<table border=\"1\" class=\"dataframe\">\n",
       "  <thead>\n",
       "    <tr style=\"text-align: right;\">\n",
       "      <th></th>\n",
       "      <th>Model</th>\n",
       "      <th>RMSE</th>\n",
       "    </tr>\n",
       "  </thead>\n",
       "  <tbody>\n",
       "    <tr>\n",
       "      <td>7</td>\n",
       "      <td>SVDpp</td>\n",
       "      <td>0.861879</td>\n",
       "    </tr>\n",
       "    <tr>\n",
       "      <td>0</td>\n",
       "      <td>Baseline</td>\n",
       "      <td>0.876181</td>\n",
       "    </tr>\n",
       "    <tr>\n",
       "      <td>6</td>\n",
       "      <td>SVD</td>\n",
       "      <td>0.878338</td>\n",
       "    </tr>\n",
       "  </tbody>\n",
       "</table>\n",
       "</div>"
      ],
      "text/plain": [
       "      Model      RMSE\n",
       "7     SVDpp  0.861879\n",
       "0  Baseline  0.876181\n",
       "6       SVD  0.878338"
      ]
     },
     "execution_count": 157,
     "metadata": {},
     "output_type": "execute_result"
    }
   ],
   "source": [
    "vanilla_model_summary[:3]"
   ]
  },
  {
   "cell_type": "markdown",
   "metadata": {},
   "source": [
    "Although the SVDpp model returns the lowest RMSE, the model is very slow. We'll try to create an even stronger or similar model with Spark. See notebook Project-Part-3."
   ]
  },
  {
   "cell_type": "markdown",
   "metadata": {},
   "source": [
    "# Export "
   ]
  },
  {
   "cell_type": "code",
   "execution_count": 158,
   "metadata": {},
   "outputs": [],
   "source": [
    "refined_models.to_csv('gridsearch_models',index=False)"
   ]
  }
 ],
 "metadata": {
  "kernelspec": {
   "display_name": "Python 3",
   "language": "python",
   "name": "python3"
  },
  "language_info": {
   "codemirror_mode": {
    "name": "ipython",
    "version": 3
   },
   "file_extension": ".py",
   "mimetype": "text/x-python",
   "name": "python",
   "nbconvert_exporter": "python",
   "pygments_lexer": "ipython3",
   "version": "3.6.9"
  },
  "toc": {
   "base_numbering": 1,
   "nav_menu": {
    "height": "286px",
    "width": "344px"
   },
   "number_sections": true,
   "sideBar": true,
   "skip_h1_title": false,
   "title_cell": "Table of Contents",
   "title_sidebar": "Contents",
   "toc_cell": false,
   "toc_position": {
    "height": "calc(100% - 180px)",
    "left": "10px",
    "top": "150px",
    "width": "358.391px"
   },
   "toc_section_display": true,
   "toc_window_display": true
  },
  "varInspector": {
   "cols": {
    "lenName": 16,
    "lenType": 16,
    "lenVar": 40
   },
   "kernels_config": {
    "python": {
     "delete_cmd_postfix": "",
     "delete_cmd_prefix": "del ",
     "library": "var_list.py",
     "varRefreshCmd": "print(var_dic_list())"
    },
    "r": {
     "delete_cmd_postfix": ") ",
     "delete_cmd_prefix": "rm(",
     "library": "var_list.r",
     "varRefreshCmd": "cat(var_dic_list()) "
    }
   },
   "oldHeight": 615,
   "position": {
    "height": "202px",
    "left": "1523px",
    "right": "20px",
    "top": "118px",
    "width": "253px"
   },
   "types_to_exclude": [
    "module",
    "function",
    "builtin_function_or_method",
    "instance",
    "_Feature"
   ],
   "varInspector_section_display": "block",
   "window_display": true
  }
 },
 "nbformat": 4,
 "nbformat_minor": 2
}
